{
  "nbformat": 4,
  "nbformat_minor": 0,
  "metadata": {
    "colab": {
      "provenance": []
    },
    "kernelspec": {
      "name": "python3",
      "display_name": "Python 3"
    },
    "language_info": {
      "name": "python"
    }
  },
  "cells": [
    {
      "cell_type": "code",
      "execution_count": 3,
      "metadata": {
        "colab": {
          "base_uri": "https://localhost:8080/"
        },
        "id": "BYWQ3kc6rvjL",
        "outputId": "c340b81e-6a9b-496b-d980-035aa3b9183c"
      },
      "outputs": [
        {
          "output_type": "stream",
          "name": "stdout",
          "text": [
            "   year  per capita income (US$)\n",
            "0  1970              3399.299037\n",
            "1  1971              3768.297935\n",
            "2  1972              4251.175484\n",
            "3  1973              4804.463248\n",
            "4  1974              5576.514583\n"
          ]
        }
      ],
      "source": [
        "import pandas as pd\n",
        "df = pd.read_csv('canada_per_capita_income.csv')\n",
        "print(df.head())\n"
      ]
    },
    {
      "cell_type": "code",
      "source": [
        "import pandas as pd\n",
        "import numpy as np\n",
        "from sklearn import linear_model\n",
        "import matplotlib.pyplot as plt\n",
        "\n",
        "# Load the dataset (make sure to replace with the correct file path)\n",
        "df = pd.read_csv('canada_per_capita_income.csv')\n",
        "\n",
        "# Inspect the data to understand its structure\n",
        "print(df.head())\n",
        "\n",
        "# Make sure the column names are correct\n",
        "# The dataset should have 'year' and 'per capita income (US$)' columns\n",
        "# Check the column names\n",
        "print(df.columns)\n",
        "\n",
        "# Plotting the data\n",
        "plt.xlabel('Year')\n",
        "plt.ylabel('Per Capita Income (US$)')\n",
        "plt.scatter(df['year'], df['per capita income (US$)'], color='red', marker='+')\n",
        "plt.show()\n",
        "\n",
        "# Preparing the data for linear regression\n",
        "X = df[['year']]  # Feature: Year\n",
        "y = df['per capita income (US$)']  # Target: Per Capita Income\n",
        "\n",
        "# Create linear regression object\n",
        "reg = linear_model.LinearRegression()\n",
        "\n",
        "# Train the model\n",
        "reg.fit(X, y)\n",
        "\n",
        "# Check the model's coefficients and intercept\n",
        "print(f\"Coefficient (m): {reg.coef_[0]}\")\n",
        "print(f\"Intercept (b): {reg.intercept_}\")\n",
        "\n",
        "# Predict the per capita income for the year 2020\n",
        "predicted_income_2020 = reg.predict([[2020]])\n",
        "print(f\"Predicted per capita income for 2020: ${predicted_income_2020[0]:.2f}\")\n",
        "\n",
        "# Optionally, calculate manually using the equation Y = m*X + b\n",
        "manual_prediction = 2020 * reg.coef_[0] + reg.intercept_\n",
        "print(f\"Manual prediction for 2020: ${manual_prediction:.2f}\")\n",
        "\n"
      ],
      "metadata": {
        "colab": {
          "base_uri": "https://localhost:8080/",
          "height": 675
        },
        "id": "GHuZvN3XuVDe",
        "outputId": "527c6661-e741-4061-fa8d-e3e757052ecf"
      },
      "execution_count": 5,
      "outputs": [
        {
          "output_type": "stream",
          "name": "stdout",
          "text": [
            "   year  per capita income (US$)\n",
            "0  1970              3399.299037\n",
            "1  1971              3768.297935\n",
            "2  1972              4251.175484\n",
            "3  1973              4804.463248\n",
            "4  1974              5576.514583\n",
            "Index(['year', 'per capita income (US$)'], dtype='object')\n"
          ]
        },
        {
          "output_type": "display_data",
          "data": {
            "text/plain": [
              "<Figure size 640x480 with 1 Axes>"
            ],
            "image/png": "[encoded data removed]"
          },
          "metadata": {}
        },
        {
          "output_type": "stream",
          "name": "stdout",
          "text": [
            "Coefficient (m): 828.4650752227104\n",
            "Intercept (b): -1632210.7578554575\n",
            "Predicted per capita income for 2020: $41288.69\n",
            "Manual prediction for 2020: $41288.69\n"
          ]
        },
        {
          "output_type": "stream",
          "name": "stderr",
          "text": [
            "/usr/local/lib/python3.11/dist-packages/sklearn/utils/validation.py:2739: UserWarning: X does not have valid feature names, but LinearRegression was fitted with feature names\n",
            "  warnings.warn(\n"
          ]
        }
      ]
    },
    {
      "cell_type": "code",
      "source": [
        "import pandas as pd\n",
        "df = pd.read_csv('salary.csv')\n",
        "print(df.head())\n"
      ],
      "metadata": {
        "colab": {
          "base_uri": "https://localhost:8080/"
        },
        "id": "Qy7BVm-hvMJd",
        "outputId": "3ebbe671-ef71-4252-e5e1-7394748482a1"
      },
      "execution_count": 6,
      "outputs": [
        {
          "output_type": "stream",
          "name": "stdout",
          "text": [
            "   YearsExperience  Salary\n",
            "0              1.1   39343\n",
            "1              1.3   46205\n",
            "2              1.5   37731\n",
            "3              2.0   43525\n",
            "4              2.2   39891\n"
          ]
        }
      ]
    },
    {
      "cell_type": "code",
      "source": [
        "import pandas as pd\n",
        "import numpy as np\n",
        "from sklearn import linear_model\n",
        "import matplotlib.pyplot as plt\n",
        "\n",
        "# Step 1: Load the dataset\n",
        "df = pd.read_csv('salary.csv')\n",
        "\n",
        "# Inspect the data to ensure correct loading\n",
        "print(df.head())  # View the first few rows of the dataset\n",
        "print(df.columns)  # Check the column names\n",
        "\n",
        "# Step 2: Drop rows with NaN values\n",
        "df = df.dropna()\n",
        "\n",
        "# Step 3: Preprocess the data\n",
        "df.columns = ['experience', 'salary']  # Rename columns for clarity\n",
        "\n",
        "# Step 4: Plot the data (optional)\n",
        "plt.xlabel('Years of Experience')\n",
        "plt.ylabel('Salary')\n",
        "plt.scatter(df['experience'], df['salary'], color='red', marker='+')\n",
        "plt.show()\n",
        "\n",
        "# Step 5: Prepare the data for regression\n",
        "X = df[['experience']]  # Feature: Years of experience\n",
        "y = df['salary']  # Target: Salary\n",
        "\n",
        "# Step 6: Create and train the linear regression model\n",
        "reg = linear_model.LinearRegression()\n",
        "reg.fit(X, y)\n",
        "\n",
        "# Step 7: Check the model's coefficients and intercept\n",
        "print(f\"Coefficient (m): {reg.coef_[0]}\")\n",
        "print(f\"Intercept (b): {reg.intercept_}\")\n",
        "\n",
        "# Step 8: Predict the salary for an employee with 12 years of experience\n",
        "predicted_salary_12_years = reg.predict([[12]])  # Predict salary for 12 years of experience\n",
        "print(f\"Predicted salary for an employee with 12 years of experience: ${predicted_salary_12_years[0]:.2f}\")\n",
        "\n"
      ],
      "metadata": {
        "colab": {
          "base_uri": "https://localhost:8080/",
          "height": 657
        },
        "id": "4oBK3JtGvf8d",
        "outputId": "b993535c-908c-4a83-cc90-343b0fa5aa02"
      },
      "execution_count": 10,
      "outputs": [
        {
          "output_type": "stream",
          "name": "stdout",
          "text": [
            "   YearsExperience  Salary\n",
            "0              1.1   39343\n",
            "1              1.3   46205\n",
            "2              1.5   37731\n",
            "3              2.0   43525\n",
            "4              2.2   39891\n",
            "Index(['YearsExperience', 'Salary'], dtype='object')\n"
          ]
        },
        {
          "output_type": "display_data",
          "data": {
            "text/plain": [
              "<Figure size 640x480 with 1 Axes>"
            ],
            "image/png": "[encoded data removed]"
          },
          "metadata": {}
        },
        {
          "output_type": "stream",
          "name": "stdout",
          "text": [
            "Coefficient (m): 9398.640601843543\n",
            "Intercept (b): 26265.98773185531\n",
            "Predicted salary for an employee with 12 years of experience: $139049.67\n"
          ]
        },
        {
          "output_type": "stream",
          "name": "stderr",
          "text": [
            "/usr/local/lib/python3.11/dist-packages/sklearn/utils/validation.py:2739: UserWarning: X does not have valid feature names, but LinearRegression was fitted with feature names\n",
            "  warnings.warn(\n"
          ]
        }
      ]
    },
    {
      "cell_type": "code",
      "source": [
        "import pandas as pd\n",
        "df = pd.read_csv('hiring.csv')\n",
        "print(df.head())\n"
      ],
      "metadata": {
        "colab": {
          "base_uri": "https://localhost:8080/"
        },
        "id": "Nr9YsS72w4UM",
        "outputId": "c2da23d3-a7c9-43bc-ee50-62e6c97efcb7"
      },
      "execution_count": 11,
      "outputs": [
        {
          "output_type": "stream",
          "name": "stdout",
          "text": [
            "  experience  test_score(out of 10)  interview_score(out of 10)  salary($)\n",
            "0        NaN                    8.0                           9      50000\n",
            "1        NaN                    8.0                           6      45000\n",
            "2       five                    6.0                           7      60000\n",
            "3        two                   10.0                          10      65000\n",
            "4      seven                    9.0                           6      70000\n"
          ]
        }
      ]
    },
    {
      "cell_type": "code",
      "source": [
        "import pandas as pd\n",
        "df = pd.read_csv('1000_Companies.csv')\n",
        "print(df.head())\n"
      ],
      "metadata": {
        "colab": {
          "base_uri": "https://localhost:8080/"
        },
        "id": "WGdROs7KxF68",
        "outputId": "b9315c54-e742-432f-e0bd-7b83807cf612"
      },
      "execution_count": 12,
      "outputs": [
        {
          "output_type": "stream",
          "name": "stdout",
          "text": [
            "   R&D Spend  Administration  Marketing Spend       State     Profit\n",
            "0  165349.20       136897.80        471784.10    New York  192261.83\n",
            "1  162597.70       151377.59        443898.53  California  191792.06\n",
            "2  153441.51       101145.55        407934.54     Florida  191050.39\n",
            "3  144372.41       118671.85        383199.62    New York  182901.99\n",
            "4  142107.34        91391.77        366168.42     Florida  166187.94\n"
          ]
        }
      ]
    },
    {
      "cell_type": "code",
      "source": [
        "import pandas as pd\n",
        "import numpy as np\n",
        "from sklearn import linear_model\n",
        "\n",
        "# Step 1: Load the hiring dataset\n",
        "df_hiring = pd.read_csv('hiring.csv')\n",
        "\n",
        "# Check the first few rows of the dataset\n",
        "print(df_hiring.head())\n",
        "\n",
        "# Step 2: Convert experience from words to numbers\n",
        "experience_mapping = {\n",
        "    'one': 1, 'two': 2, 'three': 3, 'four': 4, 'five': 5,\n",
        "    'six': 6, 'seven': 7, 'eight': 8, 'nine': 9, 'ten': 10,\n",
        "    'eleven': 11, 'twelve': 12\n",
        "}\n",
        "\n",
        "# Convert 'experience' column from words to numbers\n",
        "df_hiring['experience'] = df_hiring['experience'].replace(experience_mapping)\n",
        "\n",
        "# Step 3: Handle missing values in the 'experience' column\n",
        "# Fill NaN values in 'experience' column with the median\n",
        "df_hiring['experience'] = df_hiring['experience'].fillna(df_hiring['experience'].median())\n",
        "\n",
        "# Step 4: Handle missing values in other columns (test_score and interview_score)\n",
        "# Fill NaN values with the median or drop rows with NaN values\n",
        "df_hiring = df_hiring.dropna()  # Drop rows that contain NaN values in any column\n",
        "\n",
        "# Step 5: Prepare the data for regression\n",
        "X_hiring = df_hiring[['experience', 'test_score(out of 10)', 'interview_score(out of 10)']]  # Features\n",
        "y_hiring = df_hiring['salary($)']  # Target variable: Salary\n",
        "\n",
        "# Step 6: Create and train the regression model\n",
        "reg_hiring = linear_model.LinearRegression()\n",
        "reg_hiring.fit(X_hiring, y_hiring)\n",
        "\n",
        "# Step 7: Model coefficients and intercept\n",
        "print(f\"Model Coefficients: {reg_hiring.coef_}\")\n",
        "print(f\"Model Intercept: {reg_hiring.intercept_}\")\n",
        "\n",
        "# Step 8: Predict salaries for new candidates\n",
        "# Candidate 1: 2 years experience, 9 test score, 6 interview score\n",
        "prediction_1 = reg_hiring.predict([[2, 9, 6]])\n",
        "print(f\"Predicted salary for Candidate 1: ${prediction_1[0]:.2f}\")\n",
        "\n",
        "# Candidate 2: 12 years experience, 10 test score, 10 interview score\n",
        "prediction_2 = reg_hiring.predict([[12, 10, 10]])\n",
        "print(f\"Predicted salary for Candidate 2: ${prediction_2[0]:.2f}\")\n",
        "\n"
      ],
      "metadata": {
        "colab": {
          "base_uri": "https://localhost:8080/"
        },
        "id": "RRG2Pbvtx8sF",
        "outputId": "d54408bd-d160-4630-d277-9341899c80eb"
      },
      "execution_count": 17,
      "outputs": [
        {
          "output_type": "stream",
          "name": "stdout",
          "text": [
            "  experience  test_score(out of 10)  interview_score(out of 10)  salary($)\n",
            "0        NaN                    8.0                           9      50000\n",
            "1        NaN                    8.0                           6      45000\n",
            "2       five                    6.0                           7      60000\n",
            "3        two                   10.0                          10      65000\n",
            "4      seven                    9.0                           6      70000\n",
            "Model Coefficients: [2728.67637903 1268.58423609 2910.72095629]\n",
            "Model Intercept: 12868.634043083053\n",
            "Predicted salary for Candidate 1: $47207.57\n",
            "Predicted salary for Candidate 2: $87405.80\n"
          ]
        },
        {
          "output_type": "stream",
          "name": "stderr",
          "text": [
            "<ipython-input-17-963741cc0859>:19: FutureWarning: Downcasting behavior in `replace` is deprecated and will be removed in a future version. To retain the old behavior, explicitly call `result.infer_objects(copy=False)`. To opt-in to the future behavior, set `pd.set_option('future.no_silent_downcasting', True)`\n",
            "  df_hiring['experience'] = df_hiring['experience'].replace(experience_mapping)\n",
            "/usr/local/lib/python3.11/dist-packages/sklearn/utils/validation.py:2739: UserWarning: X does not have valid feature names, but LinearRegression was fitted with feature names\n",
            "  warnings.warn(\n",
            "/usr/local/lib/python3.11/dist-packages/sklearn/utils/validation.py:2739: UserWarning: X does not have valid feature names, but LinearRegression was fitted with feature names\n",
            "  warnings.warn(\n"
          ]
        }
      ]
    },
    {
      "cell_type": "code",
      "source": [
        "import pandas as pd\n",
        "import numpy as np\n",
        "from sklearn import linear_model\n",
        "from sklearn.preprocessing import LabelEncoder\n",
        "\n",
        "# Step 1: Load the companies dataset\n",
        "df_companies = pd.read_csv('1000_Companies.csv')\n",
        "\n",
        "# Check the data to understand its structure\n",
        "print(df_companies.head())\n",
        "\n",
        "# Step 2: Preprocess the 'State' column (encode categorical values)\n",
        "label_encoder = LabelEncoder()\n",
        "df_companies['State'] = label_encoder.fit_transform(df_companies['State'])\n",
        "\n",
        "# Handle missing values if there are any\n",
        "df_companies = df_companies.dropna()\n",
        "\n",
        "# Step 3: Prepare the data for regression\n",
        "X_companies = df_companies[['R&D Spend', 'Administration', 'Marketing Spend', 'State']]  # Features\n",
        "y_companies = df_companies['Profit']  # Target variable: Profit\n",
        "\n",
        "# Step 4: Create and train the regression model\n",
        "reg_companies = linear_model.LinearRegression()\n",
        "reg_companies.fit(X_companies, y_companies)\n",
        "\n",
        "# Step 5: Model coefficients and intercept\n",
        "print(f\"Model Coefficients: {reg_companies.coef_}\")\n",
        "print(f\"Model Intercept: {reg_companies.intercept_}\")\n",
        "\n",
        "# Step 6: Predict profit for a new company\n",
        "# New company data: 91694.48 R&D Spend, 515841.3 Administration, 11931.24 Marketing Spend, Florida State\n",
        "new_company_data = np.array([[91694.48, 515841.3, 11931.24, label_encoder.transform(['Florida'])[0]]])\n",
        "predicted_profit = reg_companies.predict(new_company_data)\n",
        "print(f\"Predicted profit for the new company: ${predicted_profit[0]:.2f}\")\n"
      ],
      "metadata": {
        "colab": {
          "base_uri": "https://localhost:8080/"
        },
        "id": "22l8E2cXx-78",
        "outputId": "0c162cca-8607-4a64-a462-4bc55bd84660"
      },
      "execution_count": 22,
      "outputs": [
        {
          "output_type": "stream",
          "name": "stdout",
          "text": [
            "   R&D Spend  Administration  Marketing Spend       State     Profit\n",
            "0  165349.20       136897.80        471784.10    New York  192261.83\n",
            "1  162597.70       151377.59        443898.53  California  191792.06\n",
            "2  153441.51       101145.55        407934.54     Florida  191050.39\n",
            "3  144372.41       118671.85        383199.62    New York  182901.99\n",
            "4  142107.34        91391.77        366168.42     Florida  166187.94\n",
            "Model Coefficients: [ 0.55389023  1.02672443  0.08058525 46.62387015]\n",
            "Model Intercept: -70214.44175560221\n",
            "Predicted profit for the new company: $511209.20\n"
          ]
        },
        {
          "output_type": "stream",
          "name": "stderr",
          "text": [
            "/usr/local/lib/python3.11/dist-packages/sklearn/utils/validation.py:2739: UserWarning: X does not have valid feature names, but LinearRegression was fitted with feature names\n",
            "  warnings.warn(\n"
          ]
        }
      ]
    }
  ]
}